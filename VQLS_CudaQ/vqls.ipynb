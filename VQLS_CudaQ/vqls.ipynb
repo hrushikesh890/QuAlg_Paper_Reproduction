{
 "cells": [
  {
   "cell_type": "code",
   "execution_count": 6,
   "metadata": {},
   "outputs": [],
   "source": [
    "import cudaq\n",
    "import numpy as np\n",
    "from itertools import product\n",
    "from cudaq import spin"
   ]
  },
  {
   "cell_type": "code",
   "execution_count": 7,
   "metadata": {},
   "outputs": [
    {
     "data": {
      "text/plain": [
       "<cudaq.operator.expressions.OperatorSum at 0x7f7c2e355200>"
      ]
     },
     "execution_count": 7,
     "metadata": {},
     "output_type": "execute_result"
    }
   ],
   "source": [
    "# Define Pauli matrices\n",
    "paulis = {\n",
    "    'I': np.array([[1, 0], [0, 1]], dtype=complex),\n",
    "    'X': np.array([[0, 1], [1, 0]], dtype=complex),\n",
    "    'Y': np.array([[0, -1j], [1j, 0]], dtype=complex),\n",
    "    'Z': np.array([[1, 0], [0, -1]], dtype=complex)\n",
    "}\n",
    "\n",
    "p_spin_op = {\n",
    "    'I': spin.i,\n",
    "    'X': spin.x,\n",
    "    'Y': spin.y,\n",
    "    'Z': spin.z\n",
    "}\n",
    "pauli_labels = list(paulis.keys())\n",
    "\n",
    "def get_pauli_basis(n_qubits):\n",
    "    \"\"\"Generate tensor products of Pauli operators for n qubits.\"\"\"\n",
    "    basis = []\n",
    "    labels = []\n",
    "    for label in product(pauli_labels, repeat=n_qubits):\n",
    "        op = paulis[label[0]]\n",
    "        for l in label[1:]:\n",
    "            op = np.kron(op, paulis[l])\n",
    "        basis.append(op)\n",
    "        labels.append(''.join(label))\n",
    "    return labels, basis\n",
    "\n",
    "def decompose_into_paulis(A):\n",
    "    \"\"\"Decompose Hermitian matrix A into Pauli basis.\"\"\"\n",
    "    n = int(np.log2(A.shape[0]))\n",
    "    labels, basis = get_pauli_basis(n)\n",
    "    coeffs = []\n",
    "    for label, P in zip(labels, basis):\n",
    "        # Coefficient: Tr(P†A) / 2^n (note P† = P for Pauli)\n",
    "        coeff = np.trace(P.conj().T @ A) / (2 ** n)\n",
    "        if not np.isclose(coeff, 0, atol=1e-10):\n",
    "            coeffs.append((coeff, label))\n",
    "    return coeffs\n",
    "\n",
    "def to_spin_operator(coeffs, labels):\n",
    "    operator = 0.0*spin.i(0)\n",
    "    for i in range(1, len(labels[0])):\n",
    "        operator *= spin.i(i)\n",
    "    \n",
    "    for i in range(len(labels)):\n",
    "        ops = coeffs[i]\n",
    "        for j in range(len(labels[i])):\n",
    "            ops *= p_spin_op[labels[i][j]](j)\n",
    "        operator += ops\n",
    "    return operator\n",
    "            \n",
    "to_spin_operator([2.0, 1.0], [\"II\", \"IZ\"])      "
   ]
  }
 ],
 "metadata": {
  "kernelspec": {
   "display_name": "cudaq",
   "language": "python",
   "name": "python3"
  },
  "language_info": {
   "codemirror_mode": {
    "name": "ipython",
    "version": 3
   },
   "file_extension": ".py",
   "mimetype": "text/x-python",
   "name": "python",
   "nbconvert_exporter": "python",
   "pygments_lexer": "ipython3",
   "version": "3.10.0"
  }
 },
 "nbformat": 4,
 "nbformat_minor": 2
}
