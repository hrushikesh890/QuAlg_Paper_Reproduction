{
 "cells": [
  {
   "cell_type": "markdown",
   "metadata": {},
   "source": [
    "# VQLS with CUDA-Q\n",
    "\n",
    "Varitional Quantum Linear Solver (VQLS) is hybrid quantum-classical algorithm for solving linear system of equations proposed by Bravo-Prieto et al [1].\n",
    "$$Ax = b$$\n",
    "\n",
    "VQLS prepares state $A|x\\rangle$ and computes its overlap with $|b\\rangle$.\n",
    "State $|x\\rangle = V(\\theta)|0\\rangle$ is prepared using a variational ansatz parameterized by the angles $\\theta$.\n",
    "\n",
    "VQLS cost function computes the overlap of $A|x\\rangle$ and $|b\\rangle$ as follows:\n",
    "$$C_G = 1 - \\frac{|\\langle b|\\psi \\rangle|^2}{\\langle \\psi|\\psi \\rangle}$$\n",
    "\n",
    "where $|\\psi\\rangle = A|x\\rangle = A V(\\theta)|0\\rangle$\n",
    "\n",
    "In this notebook we demonstrate VQLS with cudaq in python. \n",
    "\n",
    "\n",
    "\n",
    "\n",
    "[1] Bravo-Prieto, C., LaRose, R., Cerezo, M., Subasi, Y., Cincio, L., & Coles, P. J. (2023). Variational quantum linear solver. Quantum, 7, 1188."
   ]
  },
  {
   "cell_type": "code",
   "execution_count": 9,
   "metadata": {},
   "outputs": [],
   "source": [
    "# Necessary Imports\n",
    "import cudaq\n",
    "import numpy as np\n",
    "from itertools import product\n",
    "from cudaq import spin"
   ]
  },
  {
   "cell_type": "markdown",
   "metadata": {},
   "source": [
    "### Ansatz\n",
    "To variationally encode the $|x\\rangle$ state we will use the hardware efficient ansatz as defined in the paper."
   ]
  },
  {
   "cell_type": "code",
   "execution_count": 12,
   "metadata": {},
   "outputs": [],
   "source": [
    "@cudaq.kernel\n",
    "def ansatz(q: cudaq.qview, n_qubits: int, n_layers: int, theta: list[float]):\n",
    "    for i in range(n_layers):\n",
    "        for j in range(n_qubits):\n",
    "            ry(theta[i * n_qubits + j], q[j])\n",
    "        for j in range(n_qubits - 1):\n",
    "            if ((i + j) % 2) == 0:\n",
    "                cx(q[j], q[j + 1])"
   ]
  },
  {
   "cell_type": "markdown",
   "metadata": {},
   "source": [
    "### Overlap test\n",
    "Lets calculate the overlap of state $|b\\rangle$ and $A|x\\rangle$ given by $|\\langle b|\\psi \\rangle|^2$.\n",
    "\n",
    "This is the numerator of $C_G$. We use the overlap test as described in [2].\n",
    "\n",
    "[2] Patil, H., Wang, Y., & Krstić, P. S. (2022). Variational quantum linear solver with a dynamic ansatz. Physical Review A, 105(1), 012423."
   ]
  },
  {
   "cell_type": "code",
   "execution_count": 13,
   "metadata": {},
   "outputs": [
    {
     "name": "stdout",
     "output_type": "stream",
     "text": [
      "     ╭─────────╮           ╭─────────╮     ╭───╮               ╭─────────────╮»\n",
      "q0 : ┤ ry(0.1) ├─────●─────┤ ry(0.1) ├─────┤ z ├───────────────┤>            ├»\n",
      "     ├─────────┤   ╭─┴─╮   ├─────────┤     ╰─┬─╯               │             │»\n",
      "q1 : ┤ ry(0.1) ├───┤ x ├───┤ ry(0.1) ├──●────┼─────────────────│             │»\n",
      "     ├─────────┤╭──┴───┴──╮╰─────────╯╭─┴─╮  │  ╭───╮          │ custom_swap │»\n",
      "q2 : ┤ ry(0.1) ├┤ ry(0.1) ├───────────┤ x ├──┼──┤ z ├──────────│             │»\n",
      "     ╰──┬───┬──╯╰─────────╯           ╰───╯  │  ╰─┬─╯╭───╮     │             │»\n",
      "q3 : ───┤ h ├────────────────────────────────┼────┼──┤ x ├─────┤>            ├»\n",
      "        ├───┤                                │    │  ╰─┬─╯     ╰──────┬──────╯»\n",
      "q4 : ───┤ h ├────────────────────────────────┼────┼────┼──────────────┼───────»\n",
      "        ├───┤                                │    │    │  ╭───╮       │       »\n",
      "q5 : ───┤ h ├────────────────────────────────┼────┼────┼──┤ z ├───────┼───────»\n",
      "        ├───┤                                │    │    │  ╰─┬─╯       │       »\n",
      "q6 : ───┤ h ├────────────────────────────────●────●────●────●─────────●───────»\n",
      "        ╰───╯                                                                 »\n",
      "\n",
      "################################################################################\n",
      "\n",
      "                                   \n",
      "───────────────────────────────────\n",
      "╭─────────────╮                    \n",
      "┤>            ├────────────────────\n",
      "│             │╭─────────────╮     \n",
      "│             │┤>            ├─────\n",
      "│ custom_swap ││             │     \n",
      "│             ││             │─────\n",
      "│             ││ custom_swap │     \n",
      "┤>            ├│             │─────\n",
      "╰──────┬──────╯│             │     \n",
      "───────┼───────┤>            ├─────\n",
      "       │       ╰──────┬──────╯╭───╮\n",
      "───────●──────────────●───────┤ h ├\n",
      "                              ╰───╯\n",
      "\n"
     ]
    }
   ],
   "source": [
    "\n",
    "\n",
    "swap_matrix = np.array([\n",
    "    [1, 0, 0, 0],\n",
    "    [0, 0, 1, 0],\n",
    "    [0, 1, 0, 0],\n",
    "    [0, 0, 0, 1]\n",
    "])\n",
    "\n",
    "# Register custom SWAP operation\n",
    "cudaq.register_operation(\"custom_swap\", swap_matrix)\n",
    "\n",
    "\n",
    "@cudaq.kernel\n",
    "def overlap_bpsi(A: list[int], n_qubits: int, n_layers: int, theta: list[float]):\n",
    "    q = cudaq.qvector(2*n_qubits+1)\n",
    "    ansatz(q, n_qubits, n_layers, theta)\n",
    "    for i in range(n_qubits, 2*n_qubits):\n",
    "        h(q[i])\n",
    "    i = 0\n",
    "    h(q[2*n_qubits])\n",
    "    for pauli in A:\n",
    "        if pauli == 1:\n",
    "            x.ctrl(q[2*n_qubits], q[i])\n",
    "        elif pauli == 2:\n",
    "            y.ctrl(q[2*n_qubits], q[i])\n",
    "        elif pauli == 3:\n",
    "            z.ctrl(q[2*n_qubits], q[i])\n",
    "        i += 1\n",
    "    for i in range(n_qubits):\n",
    "        custom_swap.ctrl(q[2*n_qubits], q[n_qubits+i], q[i])\n",
    "    h(q[2*n_qubits])\n",
    "    mz(q[2*n_qubits])\n",
    "\n",
    "print(cudaq.draw(overlap_bpsi, [3,0,3, 1, 0,3], 3, 2, [0.1]*6))"
   ]
  },
  {
   "cell_type": "markdown",
   "metadata": {},
   "source": [
    "### Hadamard Test for the denominator of the cost function\n",
    "\n",
    "To calculate the denominator of the VQLS cost function we use the Hadamard Test.\n"
   ]
  },
  {
   "cell_type": "code",
   "execution_count": 15,
   "metadata": {},
   "outputs": [
    {
     "name": "stdout",
     "output_type": "stream",
     "text": [
      "     ╭─────────╮           ╭─────────╮     ╭───╮     ╭───╮          \n",
      "q0 : ┤ ry(0.1) ├─────●─────┤ ry(0.1) ├─────┤ z ├─────┤ x ├──────────\n",
      "     ├─────────┤   ╭─┴─╮   ├─────────┤     ╰─┬─╯     ╰─┬─╯          \n",
      "q1 : ┤ ry(0.1) ├───┤ x ├───┤ ry(0.1) ├──●────┼─────────┼────────────\n",
      "     ├─────────┤╭──┴───┴──╮╰─────────╯╭─┴─╮  │  ╭───╮  │  ╭───╮     \n",
      "q2 : ┤ ry(0.1) ├┤ ry(0.1) ├───────────┤ x ├──┼──┤ z ├──┼──┤ z ├─────\n",
      "     ╰──┬───┬──╯╰─────────╯           ╰───╯  │  ╰─┬─╯  │  ╰─┬─╯╭───╮\n",
      "q3 : ───┤ h ├────────────────────────────────●────●────●────●──┤ h ├\n",
      "        ╰───╯                                                  ╰───╯\n",
      "\n"
     ]
    }
   ],
   "source": [
    "@cudaq.kernel\n",
    "def psi_psi(A: list[int], n_qubits: int, n_layers: int, theta: list[float]):\n",
    "    q = cudaq.qvector(n_qubits+1)\n",
    "    ansatz(q, n_qubits, n_layers, theta)\n",
    "    h(q[n_qubits])\n",
    "    i = 0\n",
    "    for pauli in A:\n",
    "        if pauli == 1:\n",
    "            x.ctrl(q[n_qubits], q[i])\n",
    "        elif pauli == 2:\n",
    "            y.ctrl(q[n_qubits], q[i])\n",
    "        elif pauli == 3:\n",
    "            z.ctrl(q[n_qubits], q[i])\n",
    "        i += 1\n",
    "        if (i == (n_qubits)):\n",
    "            i = 0\n",
    "    h(q[n_qubits])\n",
    "    mz(q[n_qubits])\n",
    "\n",
    "    \n",
    "print(cudaq.draw(psi_psi, [3,0,3, 1, 0,3], 3, 2, [0.1]*6))"
   ]
  },
  {
   "cell_type": "markdown",
   "metadata": {},
   "source": []
  },
  {
   "cell_type": "code",
   "execution_count": 7,
   "metadata": {},
   "outputs": [
    {
     "name": "stdout",
     "output_type": "stream",
     "text": [
      "     ╭─────────╮     ╭─────────╮╭───╮          \n",
      "q0 : ┤ ry(0.1) ├──●──┤ ry(0.1) ├┤ z ├──────────\n",
      "     ├─────────┤╭─┴─╮├─────────┤╰─┬─╯╭───╮     \n",
      "q1 : ┤ ry(0.1) ├┤ x ├┤ ry(0.1) ├──┼──┤ z ├─────\n",
      "     ╰──┬───┬──╯╰───╯╰─────────╯  │  ╰─┬─╯╭───╮\n",
      "q2 : ───┤ h ├─────────────────────●────●──┤ h ├\n",
      "        ╰───╯                             ╰───╯\n",
      "\n"
     ]
    }
   ],
   "source": []
  }
 ],
 "metadata": {
  "kernelspec": {
   "display_name": "cudaq",
   "language": "python",
   "name": "python3"
  },
  "language_info": {
   "codemirror_mode": {
    "name": "ipython",
    "version": 3
   },
   "file_extension": ".py",
   "mimetype": "text/x-python",
   "name": "python",
   "nbconvert_exporter": "python",
   "pygments_lexer": "ipython3",
   "version": "3.10.0"
  }
 },
 "nbformat": 4,
 "nbformat_minor": 2
}
