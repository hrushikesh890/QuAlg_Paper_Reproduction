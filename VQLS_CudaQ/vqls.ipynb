{
 "cells": [
  {
   "cell_type": "code",
   "execution_count": 1,
   "metadata": {},
   "outputs": [],
   "source": [
    "import cudaq\n",
    "import numpy as np\n",
    "from itertools import product\n",
    "from cudaq import spin"
   ]
  },
  {
   "cell_type": "code",
   "execution_count": 23,
   "metadata": {},
   "outputs": [
    {
     "ename": "NameError",
     "evalue": "name 'i' is not defined",
     "output_type": "error",
     "traceback": [
      "\u001b[0;31m---------------------------------------------------------------------------\u001b[0m",
      "\u001b[0;31mNameError\u001b[0m                                 Traceback (most recent call last)",
      "Cell \u001b[0;32mIn[23], line 16\u001b[0m\n\u001b[1;32m      2\u001b[0m paulis \u001b[38;5;241m=\u001b[39m {\n\u001b[1;32m      3\u001b[0m     \u001b[38;5;124m'\u001b[39m\u001b[38;5;124mI\u001b[39m\u001b[38;5;124m'\u001b[39m: np\u001b[38;5;241m.\u001b[39marray([[\u001b[38;5;241m1\u001b[39m, \u001b[38;5;241m0\u001b[39m], [\u001b[38;5;241m0\u001b[39m, \u001b[38;5;241m1\u001b[39m]], dtype\u001b[38;5;241m=\u001b[39m\u001b[38;5;28mcomplex\u001b[39m),\n\u001b[1;32m      4\u001b[0m     \u001b[38;5;124m'\u001b[39m\u001b[38;5;124mX\u001b[39m\u001b[38;5;124m'\u001b[39m: np\u001b[38;5;241m.\u001b[39marray([[\u001b[38;5;241m0\u001b[39m, \u001b[38;5;241m1\u001b[39m], [\u001b[38;5;241m1\u001b[39m, \u001b[38;5;241m0\u001b[39m]], dtype\u001b[38;5;241m=\u001b[39m\u001b[38;5;28mcomplex\u001b[39m),\n\u001b[1;32m      5\u001b[0m     \u001b[38;5;124m'\u001b[39m\u001b[38;5;124mY\u001b[39m\u001b[38;5;124m'\u001b[39m: np\u001b[38;5;241m.\u001b[39marray([[\u001b[38;5;241m0\u001b[39m, \u001b[38;5;241m-\u001b[39m\u001b[38;5;241m1\u001b[39mj], [\u001b[38;5;241m1\u001b[39mj, \u001b[38;5;241m0\u001b[39m]], dtype\u001b[38;5;241m=\u001b[39m\u001b[38;5;28mcomplex\u001b[39m),\n\u001b[1;32m      6\u001b[0m     \u001b[38;5;124m'\u001b[39m\u001b[38;5;124mZ\u001b[39m\u001b[38;5;124m'\u001b[39m: np\u001b[38;5;241m.\u001b[39marray([[\u001b[38;5;241m1\u001b[39m, \u001b[38;5;241m0\u001b[39m], [\u001b[38;5;241m0\u001b[39m, \u001b[38;5;241m-\u001b[39m\u001b[38;5;241m1\u001b[39m]], dtype\u001b[38;5;241m=\u001b[39m\u001b[38;5;28mcomplex\u001b[39m)\n\u001b[1;32m      7\u001b[0m }\n\u001b[1;32m      9\u001b[0m p_spin_op \u001b[38;5;241m=\u001b[39m {\n\u001b[1;32m     10\u001b[0m     \u001b[38;5;124m'\u001b[39m\u001b[38;5;124mI\u001b[39m\u001b[38;5;124m'\u001b[39m: spin\u001b[38;5;241m.\u001b[39mi,\n\u001b[1;32m     11\u001b[0m     \u001b[38;5;124m'\u001b[39m\u001b[38;5;124mX\u001b[39m\u001b[38;5;124m'\u001b[39m: spin\u001b[38;5;241m.\u001b[39mx,\n\u001b[1;32m     12\u001b[0m     \u001b[38;5;124m'\u001b[39m\u001b[38;5;124mY\u001b[39m\u001b[38;5;124m'\u001b[39m: spin\u001b[38;5;241m.\u001b[39my,\n\u001b[1;32m     13\u001b[0m     \u001b[38;5;124m'\u001b[39m\u001b[38;5;124mZ\u001b[39m\u001b[38;5;124m'\u001b[39m: spin\u001b[38;5;241m.\u001b[39mz\n\u001b[1;32m     14\u001b[0m }\n\u001b[0;32m---> 16\u001b[0m p_spin \u001b[38;5;241m=\u001b[39m [\u001b[43mi\u001b[49m, x, y, z]\n\u001b[1;32m     18\u001b[0m pauli_labels \u001b[38;5;241m=\u001b[39m \u001b[38;5;28mlist\u001b[39m(paulis\u001b[38;5;241m.\u001b[39mkeys())\n\u001b[1;32m     20\u001b[0m \u001b[38;5;28;01mdef\u001b[39;00m\u001b[38;5;250m \u001b[39m\u001b[38;5;21mget_pauli_basis\u001b[39m(n_qubits):\n",
      "\u001b[0;31mNameError\u001b[0m: name 'i' is not defined"
     ]
    }
   ],
   "source": [
    "# Define Pauli matrices\n",
    "paulis = {\n",
    "    'I': np.array([[1, 0], [0, 1]], dtype=complex),\n",
    "    'X': np.array([[0, 1], [1, 0]], dtype=complex),\n",
    "    'Y': np.array([[0, -1j], [1j, 0]], dtype=complex),\n",
    "    'Z': np.array([[1, 0], [0, -1]], dtype=complex)\n",
    "}\n",
    "\n",
    "p_spin_op = {\n",
    "    'I': spin.i,\n",
    "    'X': spin.x,\n",
    "    'Y': spin.y,\n",
    "    'Z': spin.z\n",
    "}\n",
    "\n",
    "p_spin = [i, x, y, z]\n",
    "\n",
    "pauli_labels = list(paulis.keys())\n",
    "\n",
    "def get_pauli_basis(n_qubits):\n",
    "    \"\"\"Generate tensor products of Pauli operators for n qubits.\"\"\"\n",
    "    basis = []\n",
    "    labels = []\n",
    "    for label in product(pauli_labels, repeat=n_qubits):\n",
    "        op = paulis[label[0]]\n",
    "        for l in label[1:]:\n",
    "            op = np.kron(op, paulis[l])\n",
    "        basis.append(op)\n",
    "        labels.append(''.join(label))\n",
    "    return labels, basis\n",
    "\n",
    "def decompose_into_paulis(A):\n",
    "    \"\"\"Decompose Hermitian matrix A into Pauli basis.\"\"\"\n",
    "    n = int(np.log2(A.shape[0]))\n",
    "    labels, basis = get_pauli_basis(n)\n",
    "    coeffs = []\n",
    "    for label, P in zip(labels, basis):\n",
    "        # Coefficient: Tr(P†A) / 2^n (note P† = P for Pauli)\n",
    "        coeff = np.trace(P.conj().T @ A) / (2 ** n)\n",
    "        if not np.isclose(coeff, 0, atol=1e-10):\n",
    "            coeffs.append((coeff, label))\n",
    "    return coeffs\n",
    "\n",
    "def to_spin_operator(coeffs, labels):\n",
    "    operator = 0.0*spin.i(0)\n",
    "    for i in range(1, len(labels[0])):\n",
    "        operator *= spin.i(i)\n",
    "    \n",
    "    for i in range(len(labels)):\n",
    "        ops = coeffs[i]\n",
    "        for j in range(len(labels[i])):\n",
    "            ops *= p_spin_op[labels[i][j]](j)\n",
    "        operator += ops\n",
    "    return operator\n",
    "            \n",
    "to_spin_operator([2.0, 1.0], [\"II\", \"IZ\"])      "
   ]
  },
  {
   "cell_type": "code",
   "execution_count": 26,
   "metadata": {},
   "outputs": [],
   "source": [
    "@cudaq.kernel\n",
    "def b(q: cudaq.qview, n_qubits: int):\n",
    "    #q = cudaq.qvector(n_qubits)\n",
    "    for i in range(n_qubits):\n",
    "        cudaq.h(q[i]) \n",
    "\n",
    "@cudaq.kernel\n",
    "def ansatz(q: cudaq.qview, n_qubits: int, n_layers: int, theta: list[float]):\n",
    "    for i in range(n_layers):\n",
    "        for j in range(n_qubits):\n",
    "            ry(theta[i * n_qubits + j], q[j])\n",
    "        for j in range(n_qubits - 1):\n",
    "            if ((i + j) % 2) == 0:\n",
    "                cx(q[j], q[j + 1])\n",
    "\n",
    "swap_matrix = np.array([\n",
    "    [1, 0, 0, 0],\n",
    "    [0, 0, 1, 0],\n",
    "    [0, 1, 0, 0],\n",
    "    [0, 0, 0, 1]\n",
    "])\n",
    "\n",
    "# Register custom SWAP operation\n",
    "cudaq.register_operation(\"custom_swap\", swap_matrix)\n",
    "\n",
    "\n",
    "@cudaq.kernel\n",
    "def overlap_bpsi(A: list[int], n_qubits: int, n_layers: int, theta: list[float]):\n",
    "    q = cudaq.qvector(2*n_qubits+1)\n",
    "    ansatz(q, n_qubits, n_layers, theta)\n",
    "    for i in range(n_qubits, 2*n_qubits):\n",
    "        h(q[i])\n",
    "    i = 0\n",
    "    h(q[2*n_qubits])\n",
    "    for pauli in A:\n",
    "        if pauli == 1:\n",
    "            x.ctrl(q[2*n_qubits], q[i])\n",
    "        elif pauli == 2:\n",
    "            y.ctrl(q[2*n_qubits], q[i])\n",
    "        elif pauli == 3:\n",
    "            z.ctrl(q[2*n_qubits], q[i])\n",
    "        i += 1\n",
    "    for i in range(n_qubits):\n",
    "        custom_swap.ctrl(q[2*n_qubits], q[n_qubits+i], q[i])\n",
    "    h(q[2*n_qubits])\n",
    "    mz(q[2*n_qubits])\n",
    "    "
   ]
  },
  {
   "cell_type": "code",
   "execution_count": 27,
   "metadata": {},
   "outputs": [
    {
     "name": "stdout",
     "output_type": "stream",
     "text": [
      "{ 0:619 1:381 }\n",
      "\n"
     ]
    }
   ],
   "source": [
    "print(cudaq.sample(overlap_bpsi, [3,0,0,3], 2, 2, [0.1]*4))"
   ]
  },
  {
   "cell_type": "code",
   "execution_count": 28,
   "metadata": {},
   "outputs": [
    {
     "name": "stdout",
     "output_type": "stream",
     "text": [
      "     ╭─────────╮     ╭─────────╮╭───╮     ╭─────────────╮                    \n",
      "q0 : ┤ ry(0.1) ├──●──┤ ry(0.1) ├┤ z ├─────┤>            ├────────────────────\n",
      "     ├─────────┤╭─┴─╮├─────────┤╰─┬─╯     │             │╭─────────────╮     \n",
      "q1 : ┤ ry(0.1) ├┤ x ├┤ ry(0.1) ├──┼───────│ custom_swap │┤>            ├─────\n",
      "     ╰──┬───┬──╯╰───╯╰─────────╯  │       │             ││             │     \n",
      "q2 : ───┤ h ├─────────────────────┼───────┤>            ├│ custom_swap │─────\n",
      "        ├───┤                     │  ╭───╮╰──────┬──────╯│             │     \n",
      "q3 : ───┤ h ├─────────────────────┼──┤ z ├───────┼───────┤>            ├─────\n",
      "        ├───┤                     │  ╰─┬─╯       │       ╰──────┬──────╯╭───╮\n",
      "q4 : ───┤ h ├─────────────────────●────●─────────●──────────────●───────┤ h ├\n",
      "        ╰───╯                                                           ╰───╯\n",
      "\n"
     ]
    }
   ],
   "source": [
    "print(cudaq.draw(overlap_bpsi, [3,0,0,3], 2, 2, [0.1]*4))"
   ]
  }
 ],
 "metadata": {
  "kernelspec": {
   "display_name": "cudaq",
   "language": "python",
   "name": "python3"
  },
  "language_info": {
   "codemirror_mode": {
    "name": "ipython",
    "version": 3
   },
   "file_extension": ".py",
   "mimetype": "text/x-python",
   "name": "python",
   "nbconvert_exporter": "python",
   "pygments_lexer": "ipython3",
   "version": "3.10.0"
  }
 },
 "nbformat": 4,
 "nbformat_minor": 2
}
