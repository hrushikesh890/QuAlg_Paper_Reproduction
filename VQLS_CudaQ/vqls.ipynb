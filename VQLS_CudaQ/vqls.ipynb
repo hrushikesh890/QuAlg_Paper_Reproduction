{
 "cells": [
  {
   "cell_type": "code",
   "execution_count": 2,
   "metadata": {},
   "outputs": [],
   "source": [
    "import cudaq\n",
    "import numpy as np\n",
    "from itertools import product\n",
    "from cudaq import spin"
   ]
  },
  {
   "cell_type": "code",
   "execution_count": 18,
   "metadata": {},
   "outputs": [
    {
     "data": {
      "text/plain": [
       "<cudaq.operator.expressions.OperatorSum at 0x7fe4e9913100>"
      ]
     },
     "execution_count": 18,
     "metadata": {},
     "output_type": "execute_result"
    }
   ],
   "source": [
    "# Define Pauli matrices\n",
    "paulis = {\n",
    "    'I': np.array([[1, 0], [0, 1]], dtype=complex),\n",
    "    'X': np.array([[0, 1], [1, 0]], dtype=complex),\n",
    "    'Y': np.array([[0, -1j], [1j, 0]], dtype=complex),\n",
    "    'Z': np.array([[1, 0], [0, -1]], dtype=complex)\n",
    "}\n",
    "\n",
    "p_spin_op = {\n",
    "    'I': spin.i,\n",
    "    'X': spin.x,\n",
    "    'Y': spin.y,\n",
    "    'Z': spin.z\n",
    "}\n",
    "\n",
    "p_spin = [spin.i, spin.x, spin.y, spin.z]\n",
    "\n",
    "pauli_labels = list(paulis.keys())\n",
    "\n",
    "def get_pauli_basis(n_qubits):\n",
    "    \"\"\"Generate tensor products of Pauli operators for n qubits.\"\"\"\n",
    "    basis = []\n",
    "    labels = []\n",
    "    for label in product(pauli_labels, repeat=n_qubits):\n",
    "        op = paulis[label[0]]\n",
    "        for l in label[1:]:\n",
    "            op = np.kron(op, paulis[l])\n",
    "        basis.append(op)\n",
    "        labels.append(''.join(label))\n",
    "    return labels, basis\n",
    "\n",
    "def decompose_into_paulis(A):\n",
    "    \"\"\"Decompose Hermitian matrix A into Pauli basis.\"\"\"\n",
    "    n = int(np.log2(A.shape[0]))\n",
    "    labels, basis = get_pauli_basis(n)\n",
    "    coeffs = []\n",
    "    for label, P in zip(labels, basis):\n",
    "        # Coefficient: Tr(P†A) / 2^n (note P† = P for Pauli)\n",
    "        coeff = np.trace(P.conj().T @ A) / (2 ** n)\n",
    "        if not np.isclose(coeff, 0, atol=1e-10):\n",
    "            coeffs.append((coeff, label))\n",
    "    return coeffs\n",
    "\n",
    "def to_spin_operator(coeffs, labels):\n",
    "    operator = 0.0*spin.i(0)\n",
    "    for i in range(1, len(labels[0])):\n",
    "        operator *= spin.i(i)\n",
    "    \n",
    "    for i in range(len(labels)):\n",
    "        ops = coeffs[i]\n",
    "        for j in range(len(labels[i])):\n",
    "            ops *= p_spin_op[labels[i][j]](j)\n",
    "        operator += ops\n",
    "    return operator\n",
    "            \n",
    "to_spin_operator([2.0, 1.0], [\"II\", \"IZ\"])      "
   ]
  },
  {
   "cell_type": "code",
   "execution_count": 22,
   "metadata": {},
   "outputs": [],
   "source": [
    "@cudaq.kernel\n",
    "def b(q: cudaq.qview, n_qubits: int):\n",
    "    #q = cudaq.qvector(n_qubits)\n",
    "    for i in range(n_qubits):\n",
    "        cudaq.h(q[i]) \n",
    "\n",
    "@cudaq.kernel\n",
    "def ansatz(q: cudaq.qview, n_qubits: int, n_layers: int, theta: list[float]):\n",
    "    for i in range(n_layers):\n",
    "        for j in range(n_qubits):\n",
    "            ry(theta[i * n_qubits + j], q[j])\n",
    "        for j in range(n_qubits - 1):\n",
    "            if ((i + j) % 2) == 0:\n",
    "                cx(q[j], q[j + 1])\n",
    "\n",
    "swap_matrix = np.array([\n",
    "    [1, 0, 0, 0],\n",
    "    [0, 0, 1, 0],\n",
    "    [0, 1, 0, 0],\n",
    "    [0, 0, 0, 1]\n",
    "])\n",
    "\n",
    "# Register custom SWAP operation\n",
    "cudaq.register_operation(\"custom_swap\", swap_matrix)\n",
    "\n",
    "\n",
    "@cudaq.kernel\n",
    "def overlap_bpsi(A: list[int], n_qubits: int, n_layers: int, theta: list[float]):\n",
    "    q = cudaq.qvector(2*n_qubits+1)\n",
    "    ansatz(q, n_qubits, n_layers, theta)\n",
    "    for i in range(n_qubits, 2*n_qubits):\n",
    "        h(q[i])\n",
    "    i = 0\n",
    "    h(2*n_qubits)\n",
    "    for pauli in A:\n",
    "        p_spin[pauli].ctrl(q[2*n_qubits], q[i])\n",
    "        i += 1\n",
    "    \n",
    "    \n",
    "    \n",
    "\n",
    "\n"
   ]
  },
  {
   "cell_type": "code",
   "execution_count": 23,
   "metadata": {},
   "outputs": [
    {
     "ename": "AttributeError",
     "evalue": "'Subscript' object has no attribute 'id'",
     "output_type": "error",
     "traceback": [
      "\u001b[0;31m---------------------------------------------------------------------------\u001b[0m",
      "\u001b[0;31mAttributeError\u001b[0m                            Traceback (most recent call last)",
      "Cell \u001b[0;32mIn[23], line 1\u001b[0m\n\u001b[0;32m----> 1\u001b[0m \u001b[38;5;28mprint\u001b[39m(\u001b[43mcudaq\u001b[49m\u001b[38;5;241;43m.\u001b[39;49m\u001b[43mdraw\u001b[49m\u001b[43m(\u001b[49m\u001b[43moverlap_bpsi\u001b[49m\u001b[43m,\u001b[49m\u001b[43m \u001b[49m\u001b[43m[\u001b[49m\u001b[38;5;241;43m3\u001b[39;49m\u001b[43m,\u001b[49m\u001b[43m \u001b[49m\u001b[38;5;241;43m3\u001b[39;49m\u001b[43m,\u001b[49m\u001b[43m \u001b[49m\u001b[38;5;241;43m3\u001b[39;49m\u001b[43m,\u001b[49m\u001b[43m \u001b[49m\u001b[38;5;241;43m3\u001b[39;49m\u001b[43m,\u001b[49m\u001b[43m \u001b[49m\u001b[38;5;241;43m3\u001b[39;49m\u001b[43m,\u001b[49m\u001b[43m \u001b[49m\u001b[38;5;241;43m3\u001b[39;49m\u001b[43m,\u001b[49m\u001b[43m \u001b[49m\u001b[38;5;241;43m1\u001b[39;49m\u001b[43m,\u001b[49m\u001b[43m \u001b[49m\u001b[38;5;241;43m3\u001b[39;49m\u001b[43m,\u001b[49m\u001b[43m \u001b[49m\u001b[38;5;241;43m1\u001b[39;49m\u001b[43m,\u001b[49m\u001b[43m \u001b[49m\u001b[38;5;241;43m3\u001b[39;49m\u001b[43m]\u001b[49m\u001b[43m,\u001b[49m\u001b[43m \u001b[49m\u001b[38;5;241;43m5\u001b[39;49m\u001b[43m,\u001b[49m\u001b[43m \u001b[49m\u001b[38;5;241;43m2\u001b[39;49m\u001b[43m,\u001b[49m\u001b[43m \u001b[49m\u001b[43m[\u001b[49m\u001b[38;5;241;43m0.1\u001b[39;49m\u001b[43m]\u001b[49m\u001b[38;5;241;43m*\u001b[39;49m\u001b[38;5;241;43m10\u001b[39;49m\u001b[43m)\u001b[49m)\n",
      "File \u001b[0;32m~/anaconda3/envs/cudaq/lib/python3.10/site-packages/cudaq/kernel/kernel_decorator.py:210\u001b[0m, in \u001b[0;36mPyKernelDecorator.compile\u001b[0;34m(self)\u001b[0m\n\u001b[1;32m    207\u001b[0m \u001b[38;5;28;01mif\u001b[39;00m \u001b[38;5;28mself\u001b[39m\u001b[38;5;241m.\u001b[39mmodule \u001b[38;5;241m!=\u001b[39m \u001b[38;5;28;01mNone\u001b[39;00m:\n\u001b[1;32m    208\u001b[0m     \u001b[38;5;28;01mreturn\u001b[39;00m\n\u001b[0;32m--> 210\u001b[0m \u001b[38;5;28mself\u001b[39m\u001b[38;5;241m.\u001b[39mmodule, \u001b[38;5;28mself\u001b[39m\u001b[38;5;241m.\u001b[39margTypes, extraMetadata \u001b[38;5;241m=\u001b[39m \u001b[43mcompile_to_mlir\u001b[49m\u001b[43m(\u001b[49m\n\u001b[1;32m    211\u001b[0m \u001b[43m    \u001b[49m\u001b[38;5;28;43mself\u001b[39;49m\u001b[38;5;241;43m.\u001b[39;49m\u001b[43mastModule\u001b[49m\u001b[43m,\u001b[49m\n\u001b[1;32m    212\u001b[0m \u001b[43m    \u001b[49m\u001b[38;5;28;43mself\u001b[39;49m\u001b[38;5;241;43m.\u001b[39;49m\u001b[43mmetadata\u001b[49m\u001b[43m,\u001b[49m\n\u001b[1;32m    213\u001b[0m \u001b[43m    \u001b[49m\u001b[38;5;28;43mself\u001b[39;49m\u001b[38;5;241;43m.\u001b[39;49m\u001b[43mcapturedDataStorage\u001b[49m\u001b[43m,\u001b[49m\n\u001b[1;32m    214\u001b[0m \u001b[43m    \u001b[49m\u001b[43mverbose\u001b[49m\u001b[38;5;241;43m=\u001b[39;49m\u001b[38;5;28;43mself\u001b[39;49m\u001b[38;5;241;43m.\u001b[39;49m\u001b[43mverbose\u001b[49m\u001b[43m,\u001b[49m\n\u001b[1;32m    215\u001b[0m \u001b[43m    \u001b[49m\u001b[43mreturnType\u001b[49m\u001b[38;5;241;43m=\u001b[39;49m\u001b[38;5;28;43mself\u001b[39;49m\u001b[38;5;241;43m.\u001b[39;49m\u001b[43mreturnType\u001b[49m\u001b[43m,\u001b[49m\n\u001b[1;32m    216\u001b[0m \u001b[43m    \u001b[49m\u001b[43mlocation\u001b[49m\u001b[38;5;241;43m=\u001b[39;49m\u001b[38;5;28;43mself\u001b[39;49m\u001b[38;5;241;43m.\u001b[39;49m\u001b[43mlocation\u001b[49m\u001b[43m,\u001b[49m\n\u001b[1;32m    217\u001b[0m \u001b[43m    \u001b[49m\u001b[43mparentVariables\u001b[49m\u001b[38;5;241;43m=\u001b[39;49m\u001b[38;5;28;43mself\u001b[39;49m\u001b[38;5;241;43m.\u001b[39;49m\u001b[43mglobalScopedVars\u001b[49m\u001b[43m)\u001b[49m\n\u001b[1;32m    219\u001b[0m \u001b[38;5;66;03m# Grab the dependent capture variables, if any\u001b[39;00m\n\u001b[1;32m    220\u001b[0m \u001b[38;5;28mself\u001b[39m\u001b[38;5;241m.\u001b[39mdependentCaptures \u001b[38;5;241m=\u001b[39m extraMetadata[\n\u001b[1;32m    221\u001b[0m     \u001b[38;5;124m'\u001b[39m\u001b[38;5;124mdependent_captures\u001b[39m\u001b[38;5;124m'\u001b[39m] \u001b[38;5;28;01mif\u001b[39;00m \u001b[38;5;124m'\u001b[39m\u001b[38;5;124mdependent_captures\u001b[39m\u001b[38;5;124m'\u001b[39m \u001b[38;5;129;01min\u001b[39;00m extraMetadata \u001b[38;5;28;01melse\u001b[39;00m \u001b[38;5;28;01mNone\u001b[39;00m\n",
      "File \u001b[0;32m~/anaconda3/envs/cudaq/lib/python3.10/site-packages/cudaq/kernel/ast_bridge.py:4270\u001b[0m, in \u001b[0;36mcompile_to_mlir\u001b[0;34m(astModule, metadata, capturedDataStorage, **kwargs)\u001b[0m\n\u001b[1;32m   4267\u001b[0m \u001b[38;5;66;03m# First we need to find any dependent kernels, they have to be\u001b[39;00m\n\u001b[1;32m   4268\u001b[0m \u001b[38;5;66;03m# built as part of this ModuleOp...\u001b[39;00m\n\u001b[1;32m   4269\u001b[0m vis \u001b[38;5;241m=\u001b[39m FindDepKernelsVisitor(bridge\u001b[38;5;241m.\u001b[39mctx)\n\u001b[0;32m-> 4270\u001b[0m \u001b[43mvis\u001b[49m\u001b[38;5;241;43m.\u001b[39;49m\u001b[43mvisit\u001b[49m\u001b[43m(\u001b[49m\u001b[43mastModule\u001b[49m\u001b[43m)\u001b[49m\n\u001b[1;32m   4271\u001b[0m depKernels \u001b[38;5;241m=\u001b[39m vis\u001b[38;5;241m.\u001b[39mdepKernels\n\u001b[1;32m   4273\u001b[0m \u001b[38;5;66;03m# Keep track of a kernel call graph, we will\u001b[39;00m\n\u001b[1;32m   4274\u001b[0m \u001b[38;5;66;03m# sort this later after we build up the graph\u001b[39;00m\n",
      "File \u001b[0;32m~/anaconda3/envs/cudaq/lib/python3.10/ast.py:410\u001b[0m, in \u001b[0;36mNodeVisitor.visit\u001b[0;34m(self, node)\u001b[0m\n\u001b[1;32m    408\u001b[0m method \u001b[38;5;241m=\u001b[39m \u001b[38;5;124m'\u001b[39m\u001b[38;5;124mvisit_\u001b[39m\u001b[38;5;124m'\u001b[39m \u001b[38;5;241m+\u001b[39m node\u001b[38;5;241m.\u001b[39m\u001b[38;5;18m__class__\u001b[39m\u001b[38;5;241m.\u001b[39m\u001b[38;5;18m__name__\u001b[39m\n\u001b[1;32m    409\u001b[0m visitor \u001b[38;5;241m=\u001b[39m \u001b[38;5;28mgetattr\u001b[39m(\u001b[38;5;28mself\u001b[39m, method, \u001b[38;5;28mself\u001b[39m\u001b[38;5;241m.\u001b[39mgeneric_visit)\n\u001b[0;32m--> 410\u001b[0m \u001b[38;5;28;01mreturn\u001b[39;00m \u001b[43mvisitor\u001b[49m\u001b[43m(\u001b[49m\u001b[43mnode\u001b[49m\u001b[43m)\u001b[49m\n",
      "File \u001b[0;32m~/anaconda3/envs/cudaq/lib/python3.10/ast.py:418\u001b[0m, in \u001b[0;36mNodeVisitor.generic_visit\u001b[0;34m(self, node)\u001b[0m\n\u001b[1;32m    416\u001b[0m     \u001b[38;5;28;01mfor\u001b[39;00m item \u001b[38;5;129;01min\u001b[39;00m value:\n\u001b[1;32m    417\u001b[0m         \u001b[38;5;28;01mif\u001b[39;00m \u001b[38;5;28misinstance\u001b[39m(item, AST):\n\u001b[0;32m--> 418\u001b[0m             \u001b[38;5;28;43mself\u001b[39;49m\u001b[38;5;241;43m.\u001b[39;49m\u001b[43mvisit\u001b[49m\u001b[43m(\u001b[49m\u001b[43mitem\u001b[49m\u001b[43m)\u001b[49m\n\u001b[1;32m    419\u001b[0m \u001b[38;5;28;01melif\u001b[39;00m \u001b[38;5;28misinstance\u001b[39m(value, AST):\n\u001b[1;32m    420\u001b[0m     \u001b[38;5;28mself\u001b[39m\u001b[38;5;241m.\u001b[39mvisit(value)\n",
      "File \u001b[0;32m~/anaconda3/envs/cudaq/lib/python3.10/ast.py:410\u001b[0m, in \u001b[0;36mNodeVisitor.visit\u001b[0;34m(self, node)\u001b[0m\n\u001b[1;32m    408\u001b[0m method \u001b[38;5;241m=\u001b[39m \u001b[38;5;124m'\u001b[39m\u001b[38;5;124mvisit_\u001b[39m\u001b[38;5;124m'\u001b[39m \u001b[38;5;241m+\u001b[39m node\u001b[38;5;241m.\u001b[39m\u001b[38;5;18m__class__\u001b[39m\u001b[38;5;241m.\u001b[39m\u001b[38;5;18m__name__\u001b[39m\n\u001b[1;32m    409\u001b[0m visitor \u001b[38;5;241m=\u001b[39m \u001b[38;5;28mgetattr\u001b[39m(\u001b[38;5;28mself\u001b[39m, method, \u001b[38;5;28mself\u001b[39m\u001b[38;5;241m.\u001b[39mgeneric_visit)\n\u001b[0;32m--> 410\u001b[0m \u001b[38;5;28;01mreturn\u001b[39;00m \u001b[43mvisitor\u001b[49m\u001b[43m(\u001b[49m\u001b[43mnode\u001b[49m\u001b[43m)\u001b[49m\n",
      "File \u001b[0;32m~/anaconda3/envs/cudaq/lib/python3.10/site-packages/cudaq/kernel/analysis.py:151\u001b[0m, in \u001b[0;36mFindDepKernelsVisitor.visit_FunctionDef\u001b[0;34m(self, node)\u001b[0m\n\u001b[1;32m    147\u001b[0m             \u001b[38;5;28;01mif\u001b[39;00m \u001b[38;5;28mstr\u001b[39m(v\u001b[38;5;241m.\u001b[39mtype) \u001b[38;5;241m==\u001b[39m \u001b[38;5;28mstr\u001b[39m(\n\u001b[1;32m    148\u001b[0m                     cc\u001b[38;5;241m.\u001b[39mCallableType\u001b[38;5;241m.\u001b[39mgetFunctionType(callableTy)):\n\u001b[1;32m    149\u001b[0m                 \u001b[38;5;28mself\u001b[39m\u001b[38;5;241m.\u001b[39mdepKernels[k] \u001b[38;5;241m=\u001b[39m globalAstRegistry[k]\n\u001b[0;32m--> 151\u001b[0m \u001b[38;5;28;43mself\u001b[39;49m\u001b[38;5;241;43m.\u001b[39;49m\u001b[43mgeneric_visit\u001b[49m\u001b[43m(\u001b[49m\u001b[43mnode\u001b[49m\u001b[43m)\u001b[49m\n",
      "File \u001b[0;32m~/anaconda3/envs/cudaq/lib/python3.10/ast.py:418\u001b[0m, in \u001b[0;36mNodeVisitor.generic_visit\u001b[0;34m(self, node)\u001b[0m\n\u001b[1;32m    416\u001b[0m     \u001b[38;5;28;01mfor\u001b[39;00m item \u001b[38;5;129;01min\u001b[39;00m value:\n\u001b[1;32m    417\u001b[0m         \u001b[38;5;28;01mif\u001b[39;00m \u001b[38;5;28misinstance\u001b[39m(item, AST):\n\u001b[0;32m--> 418\u001b[0m             \u001b[38;5;28;43mself\u001b[39;49m\u001b[38;5;241;43m.\u001b[39;49m\u001b[43mvisit\u001b[49m\u001b[43m(\u001b[49m\u001b[43mitem\u001b[49m\u001b[43m)\u001b[49m\n\u001b[1;32m    419\u001b[0m \u001b[38;5;28;01melif\u001b[39;00m \u001b[38;5;28misinstance\u001b[39m(value, AST):\n\u001b[1;32m    420\u001b[0m     \u001b[38;5;28mself\u001b[39m\u001b[38;5;241m.\u001b[39mvisit(value)\n",
      "File \u001b[0;32m~/anaconda3/envs/cudaq/lib/python3.10/ast.py:410\u001b[0m, in \u001b[0;36mNodeVisitor.visit\u001b[0;34m(self, node)\u001b[0m\n\u001b[1;32m    408\u001b[0m method \u001b[38;5;241m=\u001b[39m \u001b[38;5;124m'\u001b[39m\u001b[38;5;124mvisit_\u001b[39m\u001b[38;5;124m'\u001b[39m \u001b[38;5;241m+\u001b[39m node\u001b[38;5;241m.\u001b[39m\u001b[38;5;18m__class__\u001b[39m\u001b[38;5;241m.\u001b[39m\u001b[38;5;18m__name__\u001b[39m\n\u001b[1;32m    409\u001b[0m visitor \u001b[38;5;241m=\u001b[39m \u001b[38;5;28mgetattr\u001b[39m(\u001b[38;5;28mself\u001b[39m, method, \u001b[38;5;28mself\u001b[39m\u001b[38;5;241m.\u001b[39mgeneric_visit)\n\u001b[0;32m--> 410\u001b[0m \u001b[38;5;28;01mreturn\u001b[39;00m \u001b[43mvisitor\u001b[49m\u001b[43m(\u001b[49m\u001b[43mnode\u001b[49m\u001b[43m)\u001b[49m\n",
      "File \u001b[0;32m~/anaconda3/envs/cudaq/lib/python3.10/ast.py:418\u001b[0m, in \u001b[0;36mNodeVisitor.generic_visit\u001b[0;34m(self, node)\u001b[0m\n\u001b[1;32m    416\u001b[0m     \u001b[38;5;28;01mfor\u001b[39;00m item \u001b[38;5;129;01min\u001b[39;00m value:\n\u001b[1;32m    417\u001b[0m         \u001b[38;5;28;01mif\u001b[39;00m \u001b[38;5;28misinstance\u001b[39m(item, AST):\n\u001b[0;32m--> 418\u001b[0m             \u001b[38;5;28;43mself\u001b[39;49m\u001b[38;5;241;43m.\u001b[39;49m\u001b[43mvisit\u001b[49m\u001b[43m(\u001b[49m\u001b[43mitem\u001b[49m\u001b[43m)\u001b[49m\n\u001b[1;32m    419\u001b[0m \u001b[38;5;28;01melif\u001b[39;00m \u001b[38;5;28misinstance\u001b[39m(value, AST):\n\u001b[1;32m    420\u001b[0m     \u001b[38;5;28mself\u001b[39m\u001b[38;5;241m.\u001b[39mvisit(value)\n",
      "File \u001b[0;32m~/anaconda3/envs/cudaq/lib/python3.10/ast.py:410\u001b[0m, in \u001b[0;36mNodeVisitor.visit\u001b[0;34m(self, node)\u001b[0m\n\u001b[1;32m    408\u001b[0m method \u001b[38;5;241m=\u001b[39m \u001b[38;5;124m'\u001b[39m\u001b[38;5;124mvisit_\u001b[39m\u001b[38;5;124m'\u001b[39m \u001b[38;5;241m+\u001b[39m node\u001b[38;5;241m.\u001b[39m\u001b[38;5;18m__class__\u001b[39m\u001b[38;5;241m.\u001b[39m\u001b[38;5;18m__name__\u001b[39m\n\u001b[1;32m    409\u001b[0m visitor \u001b[38;5;241m=\u001b[39m \u001b[38;5;28mgetattr\u001b[39m(\u001b[38;5;28mself\u001b[39m, method, \u001b[38;5;28mself\u001b[39m\u001b[38;5;241m.\u001b[39mgeneric_visit)\n\u001b[0;32m--> 410\u001b[0m \u001b[38;5;28;01mreturn\u001b[39;00m \u001b[43mvisitor\u001b[49m\u001b[43m(\u001b[49m\u001b[43mnode\u001b[49m\u001b[43m)\u001b[49m\n",
      "File \u001b[0;32m~/anaconda3/envs/cudaq/lib/python3.10/ast.py:420\u001b[0m, in \u001b[0;36mNodeVisitor.generic_visit\u001b[0;34m(self, node)\u001b[0m\n\u001b[1;32m    418\u001b[0m             \u001b[38;5;28mself\u001b[39m\u001b[38;5;241m.\u001b[39mvisit(item)\n\u001b[1;32m    419\u001b[0m \u001b[38;5;28;01melif\u001b[39;00m \u001b[38;5;28misinstance\u001b[39m(value, AST):\n\u001b[0;32m--> 420\u001b[0m     \u001b[38;5;28;43mself\u001b[39;49m\u001b[38;5;241;43m.\u001b[39;49m\u001b[43mvisit\u001b[49m\u001b[43m(\u001b[49m\u001b[43mvalue\u001b[49m\u001b[43m)\u001b[49m\n",
      "File \u001b[0;32m~/anaconda3/envs/cudaq/lib/python3.10/ast.py:410\u001b[0m, in \u001b[0;36mNodeVisitor.visit\u001b[0;34m(self, node)\u001b[0m\n\u001b[1;32m    408\u001b[0m method \u001b[38;5;241m=\u001b[39m \u001b[38;5;124m'\u001b[39m\u001b[38;5;124mvisit_\u001b[39m\u001b[38;5;124m'\u001b[39m \u001b[38;5;241m+\u001b[39m node\u001b[38;5;241m.\u001b[39m\u001b[38;5;18m__class__\u001b[39m\u001b[38;5;241m.\u001b[39m\u001b[38;5;18m__name__\u001b[39m\n\u001b[1;32m    409\u001b[0m visitor \u001b[38;5;241m=\u001b[39m \u001b[38;5;28mgetattr\u001b[39m(\u001b[38;5;28mself\u001b[39m, method, \u001b[38;5;28mself\u001b[39m\u001b[38;5;241m.\u001b[39mgeneric_visit)\n\u001b[0;32m--> 410\u001b[0m \u001b[38;5;28;01mreturn\u001b[39;00m \u001b[43mvisitor\u001b[49m\u001b[43m(\u001b[49m\u001b[43mnode\u001b[49m\u001b[43m)\u001b[49m\n",
      "File \u001b[0;32m~/anaconda3/envs/cudaq/lib/python3.10/site-packages/cudaq/kernel/analysis.py:208\u001b[0m, in \u001b[0;36mFindDepKernelsVisitor.visit_Call\u001b[0;34m(self, node)\u001b[0m\n\u001b[1;32m    204\u001b[0m \u001b[38;5;28;01melif\u001b[39;00m \u001b[38;5;28mhasattr\u001b[39m(node\u001b[38;5;241m.\u001b[39mfunc,\n\u001b[1;32m    205\u001b[0m              \u001b[38;5;124m'\u001b[39m\u001b[38;5;124mattr\u001b[39m\u001b[38;5;124m'\u001b[39m) \u001b[38;5;129;01mand\u001b[39;00m node\u001b[38;5;241m.\u001b[39mfunc\u001b[38;5;241m.\u001b[39mattr \u001b[38;5;129;01min\u001b[39;00m globalAstRegistry:\n\u001b[1;32m    206\u001b[0m     \u001b[38;5;28mself\u001b[39m\u001b[38;5;241m.\u001b[39mdepKernels[node\u001b[38;5;241m.\u001b[39mfunc\u001b[38;5;241m.\u001b[39mattr] \u001b[38;5;241m=\u001b[39m globalAstRegistry[\n\u001b[1;32m    207\u001b[0m         node\u001b[38;5;241m.\u001b[39mfunc\u001b[38;5;241m.\u001b[39mattr]\n\u001b[0;32m--> 208\u001b[0m \u001b[38;5;28;01melif\u001b[39;00m \u001b[43mnode\u001b[49m\u001b[38;5;241;43m.\u001b[39;49m\u001b[43mfunc\u001b[49m\u001b[38;5;241;43m.\u001b[39;49m\u001b[43mvalue\u001b[49m\u001b[38;5;241;43m.\u001b[39;49m\u001b[43mid\u001b[49m \u001b[38;5;241m==\u001b[39m \u001b[38;5;124m'\u001b[39m\u001b[38;5;124mcudaq\u001b[39m\u001b[38;5;124m'\u001b[39m \u001b[38;5;129;01mand\u001b[39;00m node\u001b[38;5;241m.\u001b[39mfunc\u001b[38;5;241m.\u001b[39mattr \u001b[38;5;129;01min\u001b[39;00m [\n\u001b[1;32m    209\u001b[0m         \u001b[38;5;124m'\u001b[39m\u001b[38;5;124mcontrol\u001b[39m\u001b[38;5;124m'\u001b[39m, \u001b[38;5;124m'\u001b[39m\u001b[38;5;124madjoint\u001b[39m\u001b[38;5;124m'\u001b[39m\n\u001b[1;32m    210\u001b[0m ] \u001b[38;5;129;01mand\u001b[39;00m node\u001b[38;5;241m.\u001b[39margs[\u001b[38;5;241m0\u001b[39m]\u001b[38;5;241m.\u001b[39mid \u001b[38;5;129;01min\u001b[39;00m globalAstRegistry:\n\u001b[1;32m    211\u001b[0m     \u001b[38;5;28mself\u001b[39m\u001b[38;5;241m.\u001b[39mdepKernels[node\u001b[38;5;241m.\u001b[39margs[\u001b[38;5;241m0\u001b[39m]\u001b[38;5;241m.\u001b[39mid] \u001b[38;5;241m=\u001b[39m globalAstRegistry[\n\u001b[1;32m    212\u001b[0m         node\u001b[38;5;241m.\u001b[39margs[\u001b[38;5;241m0\u001b[39m]\u001b[38;5;241m.\u001b[39mid]\n",
      "\u001b[0;31mAttributeError\u001b[0m: 'Subscript' object has no attribute 'id'"
     ]
    }
   ],
   "source": [
    "print(cudaq.draw(overlap_bpsi, [3, 3, 3, 3, 3, 3, 1, 3, 1, 3], 5, 2, [0.1]*10))"
   ]
  },
  {
   "cell_type": "code",
   "execution_count": 17,
   "metadata": {},
   "outputs": [
    {
     "name": "stdout",
     "output_type": "stream",
     "text": [
      "Help on class pauli_word in module cudaq.mlir._mlir_libs._quakeDialects.cudaq_runtime:\n",
      "\n",
      "class pauli_word(pybind11_builtins.pybind11_object)\n",
      " |  The `pauli_word` is a thin wrapper on a Pauli tensor product string, e.g. `XXYZ` on 4 qubits.\n",
      " |  \n",
      " |  Method resolution order:\n",
      " |      pauli_word\n",
      " |      pybind11_builtins.pybind11_object\n",
      " |      builtins.object\n",
      " |  \n",
      " |  Methods defined here:\n",
      " |  \n",
      " |  __init__(...)\n",
      " |      __init__(*args, **kwargs)\n",
      " |      Overloaded function.\n",
      " |      \n",
      " |      1. .. function:: __init__(self: cudaq.mlir._mlir_libs._quakeDialects.cudaq_runtime.pauli_word) -> None\n",
      " |              :noindex:\n",
      " |      \n",
      " |      \n",
      " |      \n",
      " |      2. .. function:: __init__(self: cudaq.mlir._mlir_libs._quakeDialects.cudaq_runtime.pauli_word, arg0: str) -> None\n",
      " |              :noindex:\n",
      " |  \n",
      " |  ----------------------------------------------------------------------\n",
      " |  Static methods inherited from pybind11_builtins.pybind11_object:\n",
      " |  \n",
      " |  __new__(*args, **kwargs) from pybind11_builtins.pybind11_type\n",
      " |      Create and return a new object.  See help(type) for accurate signature.\n",
      "\n"
     ]
    }
   ],
   "source": [
    "help(cudaq.pauli_word)"
   ]
  }
 ],
 "metadata": {
  "kernelspec": {
   "display_name": "cudaq",
   "language": "python",
   "name": "python3"
  },
  "language_info": {
   "codemirror_mode": {
    "name": "ipython",
    "version": 3
   },
   "file_extension": ".py",
   "mimetype": "text/x-python",
   "name": "python",
   "nbconvert_exporter": "python",
   "pygments_lexer": "ipython3",
   "version": "3.10.0"
  }
 },
 "nbformat": 4,
 "nbformat_minor": 2
}
